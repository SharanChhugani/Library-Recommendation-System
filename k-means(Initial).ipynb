{
 "cells": [
  {
   "cell_type": "code",
   "execution_count": 21,
   "metadata": {},
   "outputs": [],
   "source": [
    "import pandas as pd\n",
    "import numpy as np\n",
    "from matplotlib import pyplot as plt\n",
    "%matplotlib inline\n",
    "from sklearn.cluster import KMeans"
   ]
  },
  {
   "cell_type": "code",
   "execution_count": 6,
   "metadata": {},
   "outputs": [
    {
     "data": {
      "text/plain": [
       "'C:\\\\Users\\\\LENOVO1'"
      ]
     },
     "execution_count": 6,
     "metadata": {},
     "output_type": "execute_result"
    }
   ],
   "source": [
    "pwd"
   ]
  },
  {
   "cell_type": "code",
   "execution_count": 7,
   "metadata": {},
   "outputs": [
    {
     "name": "stdout",
     "output_type": "stream",
     "text": [
      "C:\\Users\\LENOVO1\\Documents\n"
     ]
    }
   ],
   "source": [
    "cd Documents"
   ]
  },
  {
   "cell_type": "code",
   "execution_count": 8,
   "metadata": {},
   "outputs": [
    {
     "name": "stdout",
     "output_type": "stream",
     "text": [
      "C:\\Users\\LENOVO1\\Documents\\sem5\n"
     ]
    }
   ],
   "source": [
    "cd sem5"
   ]
  },
  {
   "cell_type": "code",
   "execution_count": 9,
   "metadata": {},
   "outputs": [
    {
     "name": "stdout",
     "output_type": "stream",
     "text": [
      "C:\\Users\\LENOVO1\\Documents\\sem5\\MP-2\n"
     ]
    }
   ],
   "source": [
    "cd MP-2"
   ]
  },
  {
   "cell_type": "code",
   "execution_count": null,
   "metadata": {},
   "outputs": [],
   "source": []
  },
  {
   "cell_type": "code",
   "execution_count": null,
   "metadata": {},
   "outputs": [],
   "source": []
  },
  {
   "cell_type": "raw",
   "metadata": {},
   "source": []
  },
  {
   "cell_type": "code",
   "execution_count": null,
   "metadata": {},
   "outputs": [],
   "source": []
  },
  {
   "cell_type": "code",
   "execution_count": 150,
   "metadata": {},
   "outputs": [],
   "source": [
    "with open(\"br.csv\", encoding=\"utf8\", errors='ignore') as f:\n",
    "    data = pd.read_csv(f)"
   ]
  },
  {
   "cell_type": "code",
   "execution_count": 152,
   "metadata": {},
   "outputs": [
    {
     "ename": "ValueError",
     "evalue": "Some errors were detected !\n    Line #120 (got 5 columns instead of 4)\n    Line #180 (got 6 columns instead of 4)\n    Line #181 (got 5 columns instead of 4)\n    Line #184 (got 5 columns instead of 4)\n    Line #187 (got 5 columns instead of 4)\n    Line #188 (got 5 columns instead of 4)\n    Line #189 (got 5 columns instead of 4)\n    Line #236 (got 5 columns instead of 4)\n    Line #257 (got 6 columns instead of 4)\n    Line #310 (got 10 columns instead of 4)\n    Line #347 (got 5 columns instead of 4)\n    Line #349 (got 5 columns instead of 4)\n    Line #350 (got 5 columns instead of 4)\n    Line #351 (got 5 columns instead of 4)\n    Line #354 (got 5 columns instead of 4)\n    Line #355 (got 5 columns instead of 4)\n    Line #356 (got 5 columns instead of 4)\n    Line #357 (got 5 columns instead of 4)\n    Line #358 (got 5 columns instead of 4)\n    Line #359 (got 5 columns instead of 4)\n    Line #360 (got 5 columns instead of 4)\n    Line #361 (got 5 columns instead of 4)\n    Line #401 (got 5 columns instead of 4)\n    Line #436 (got 5 columns instead of 4)\n    Line #437 (got 5 columns instead of 4)\n    Line #438 (got 5 columns instead of 4)\n    Line #439 (got 5 columns instead of 4)\n    Line #440 (got 5 columns instead of 4)\n    Line #441 (got 5 columns instead of 4)\n    Line #442 (got 5 columns instead of 4)\n    Line #443 (got 5 columns instead of 4)\n    Line #462 (got 5 columns instead of 4)\n    Line #463 (got 5 columns instead of 4)\n    Line #477 (got 5 columns instead of 4)\n    Line #478 (got 5 columns instead of 4)\n    Line #521 (got 6 columns instead of 4)\n    Line #529 (got 5 columns instead of 4)\n    Line #530 (got 5 columns instead of 4)\n    Line #531 (got 5 columns instead of 4)\n    Line #532 (got 5 columns instead of 4)\n    Line #568 (got 6 columns instead of 4)\n    Line #569 (got 6 columns instead of 4)\n    Line #613 (got 6 columns instead of 4)\n    Line #614 (got 6 columns instead of 4)\n    Line #615 (got 5 columns instead of 4)\n    Line #629 (got 5 columns instead of 4)\n    Line #639 (got 5 columns instead of 4)\n    Line #640 (got 5 columns instead of 4)\n    Line #641 (got 5 columns instead of 4)\n    Line #642 (got 5 columns instead of 4)\n    Line #643 (got 5 columns instead of 4)\n    Line #644 (got 5 columns instead of 4)\n    Line #645 (got 5 columns instead of 4)\n    Line #646 (got 5 columns instead of 4)\n    Line #647 (got 5 columns instead of 4)\n    Line #648 (got 5 columns instead of 4)\n    Line #719 (got 6 columns instead of 4)\n    Line #738 (got 5 columns instead of 4)\n    Line #739 (got 5 columns instead of 4)\n    Line #740 (got 5 columns instead of 4)\n    Line #754 (got 5 columns instead of 4)\n    Line #755 (got 5 columns instead of 4)\n    Line #757 (got 5 columns instead of 4)\n    Line #769 (got 5 columns instead of 4)\n    Line #813 (got 6 columns instead of 4)\n    Line #814 (got 6 columns instead of 4)\n    Line #815 (got 5 columns instead of 4)\n    Line #830 (got 5 columns instead of 4)\n    Line #831 (got 5 columns instead of 4)\n    Line #832 (got 5 columns instead of 4)\n    Line #841 (got 5 columns instead of 4)\n    Line #847 (got 5 columns instead of 4)\n    Line #848 (got 5 columns instead of 4)\n    Line #854 (got 5 columns instead of 4)\n    Line #909 (got 5 columns instead of 4)\n    Line #910 (got 5 columns instead of 4)\n    Line #937 (got 5 columns instead of 4)\n    Line #938 (got 5 columns instead of 4)\n    Line #939 (got 5 columns instead of 4)\n    Line #940 (got 5 columns instead of 4)\n    Line #941 (got 5 columns instead of 4)\n    Line #942 (got 5 columns instead of 4)\n    Line #943 (got 5 columns instead of 4)\n    Line #944 (got 5 columns instead of 4)\n    Line #945 (got 5 columns instead of 4)\n    Line #946 (got 5 columns instead of 4)\n    Line #947 (got 5 columns instead of 4)\n    Line #949 (got 5 columns instead of 4)\n    Line #950 (got 5 columns instead of 4)\n    Line #951 (got 5 columns instead of 4)\n    Line #952 (got 5 columns instead of 4)\n    Line #953 (got 5 columns instead of 4)\n    Line #955 (got 5 columns instead of 4)\n    Line #956 (got 5 columns instead of 4)\n    Line #957 (got 5 columns instead of 4)\n    Line #958 (got 5 columns instead of 4)\n    Line #959 (got 5 columns instead of 4)\n    Line #974 (got 5 columns instead of 4)\n    Line #1008 (got 5 columns instead of 4)\n    Line #1019 (got 5 columns instead of 4)\n    Line #1022 (got 5 columns instead of 4)\n    Line #1023 (got 5 columns instead of 4)\n    Line #1027 (got 7 columns instead of 4)\n    Line #1031 (got 5 columns instead of 4)\n    Line #1069 (got 5 columns instead of 4)\n    Line #1070 (got 5 columns instead of 4)\n    Line #1083 (got 5 columns instead of 4)\n    Line #1084 (got 5 columns instead of 4)\n    Line #1118 (got 5 columns instead of 4)\n    Line #1151 (got 5 columns instead of 4)\n    Line #1152 (got 5 columns instead of 4)\n    Line #1153 (got 5 columns instead of 4)\n    Line #1171 (got 6 columns instead of 4)\n    Line #1172 (got 6 columns instead of 4)\n    Line #1193 (got 5 columns instead of 4)\n    Line #1194 (got 5 columns instead of 4)\n    Line #1210 (got 5 columns instead of 4)\n    Line #1211 (got 5 columns instead of 4)\n    Line #1246 (got 5 columns instead of 4)\n    Line #1247 (got 5 columns instead of 4)\n    Line #1272 (got 7 columns instead of 4)\n    Line #1273 (got 7 columns instead of 4)\n    Line #1277 (got 5 columns instead of 4)\n    Line #1299 (got 6 columns instead of 4)\n    Line #1307 (got 5 columns instead of 4)\n    Line #1308 (got 5 columns instead of 4)\n    Line #1309 (got 5 columns instead of 4)\n    Line #1310 (got 5 columns instead of 4)\n    Line #1311 (got 5 columns instead of 4)\n    Line #1312 (got 5 columns instead of 4)\n    Line #1313 (got 5 columns instead of 4)\n    Line #1314 (got 5 columns instead of 4)\n    Line #1316 (got 5 columns instead of 4)\n    Line #1317 (got 5 columns instead of 4)\n    Line #1318 (got 5 columns instead of 4)\n    Line #1319 (got 5 columns instead of 4)\n    Line #1320 (got 5 columns instead of 4)\n    Line #1321 (got 5 columns instead of 4)\n    Line #1322 (got 7 columns instead of 4)\n    Line #1325 (got 7 columns instead of 4)\n    Line #1326 (got 7 columns instead of 4)\n    Line #1327 (got 5 columns instead of 4)\n    Line #1328 (got 5 columns instead of 4)\n    Line #1329 (got 5 columns instead of 4)\n    Line #1330 (got 5 columns instead of 4)\n    Line #1331 (got 5 columns instead of 4)\n    Line #1332 (got 5 columns instead of 4)\n    Line #1333 (got 5 columns instead of 4)\n    Line #1334 (got 5 columns instead of 4)\n    Line #1335 (got 5 columns instead of 4)\n    Line #1336 (got 5 columns instead of 4)\n    Line #1337 (got 5 columns instead of 4)\n    Line #1338 (got 5 columns instead of 4)\n    Line #1372 (got 5 columns instead of 4)\n    Line #1373 (got 5 columns instead of 4)\n    Line #1374 (got 5 columns instead of 4)\n    Line #1375 (got 5 columns instead of 4)\n    Line #1376 (got 5 columns instead of 4)\n    Line #1386 (got 5 columns instead of 4)\n    Line #1387 (got 5 columns instead of 4)\n    Line #1407 (got 6 columns instead of 4)\n    Line #1409 (got 6 columns instead of 4)\n    Line #1423 (got 6 columns instead of 4)\n    Line #1428 (got 5 columns instead of 4)\n    Line #1429 (got 5 columns instead of 4)\n    Line #1430 (got 5 columns instead of 4)\n    Line #1558 (got 7 columns instead of 4)\n    Line #1560 (got 5 columns instead of 4)\n    Line #1576 (got 5 columns instead of 4)\n    Line #1577 (got 5 columns instead of 4)\n    Line #1578 (got 5 columns instead of 4)\n    Line #1579 (got 5 columns instead of 4)\n    Line #1580 (got 5 columns instead of 4)\n    Line #1603 (got 5 columns instead of 4)\n    Line #1604 (got 5 columns instead of 4)\n    Line #1605 (got 5 columns instead of 4)\n    Line #1631 (got 5 columns instead of 4)\n    Line #1636 (got 6 columns instead of 4)\n    Line #1656 (got 5 columns instead of 4)\n    Line #1657 (got 7 columns instead of 4)\n    Line #1658 (got 5 columns instead of 4)\n    Line #1659 (got 7 columns instead of 4)\n    Line #1664 (got 5 columns instead of 4)\n    Line #1710 (got 5 columns instead of 4)\n    Line #1732 (got 6 columns instead of 4)\n    Line #1733 (got 6 columns instead of 4)\n    Line #1736 (got 6 columns instead of 4)\n    Line #1737 (got 6 columns instead of 4)\n    Line #1739 (got 5 columns instead of 4)\n    Line #1741 (got 5 columns instead of 4)\n    Line #1744 (got 6 columns instead of 4)\n    Line #1745 (got 6 columns instead of 4)\n    Line #1749 (got 5 columns instead of 4)\n    Line #1759 (got 5 columns instead of 4)\n    Line #1760 (got 5 columns instead of 4)\n    Line #1775 (got 5 columns instead of 4)\n    Line #1778 (got 5 columns instead of 4)\n    Line #1814 (got 6 columns instead of 4)\n    Line #1868 (got 5 columns instead of 4)\n    Line #1886 (got 5 columns instead of 4)\n    Line #1887 (got 5 columns instead of 4)\n    Line #1888 (got 5 columns instead of 4)\n    Line #1889 (got 5 columns instead of 4)\n    Line #1890 (got 5 columns instead of 4)\n    Line #1922 (got 5 columns instead of 4)\n    Line #1923 (got 5 columns instead of 4)\n    Line #1924 (got 5 columns instead of 4)\n    Line #1925 (got 5 columns instead of 4)\n    Line #1926 (got 5 columns instead of 4)\n    Line #1942 (got 6 columns instead of 4)\n    Line #1943 (got 5 columns instead of 4)\n    Line #1947 (got 6 columns instead of 4)\n    Line #1968 (got 6 columns instead of 4)\n    Line #1969 (got 7 columns instead of 4)\n    Line #1970 (got 7 columns instead of 4)\n    Line #1971 (got 6 columns instead of 4)\n    Line #1972 (got 6 columns instead of 4)\n    Line #1989 (got 5 columns instead of 4)\n    Line #2009 (got 5 columns instead of 4)\n    Line #2014 (got 5 columns instead of 4)\n    Line #2031 (got 5 columns instead of 4)\n    Line #2048 (got 5 columns instead of 4)\n    Line #2049 (got 5 columns instead of 4)\n    Line #2072 (got 5 columns instead of 4)\n    Line #2077 (got 5 columns instead of 4)\n    Line #2088 (got 5 columns instead of 4)\n    Line #2089 (got 5 columns instead of 4)\n    Line #2119 (got 5 columns instead of 4)\n    Line #2205 (got 5 columns instead of 4)\n    Line #2255 (got 5 columns instead of 4)\n    Line #2256 (got 5 columns instead of 4)\n    Line #2257 (got 5 columns instead of 4)\n    Line #2258 (got 5 columns instead of 4)\n    Line #2259 (got 5 columns instead of 4)\n    Line #2337 (got 5 columns instead of 4)\n    Line #2358 (got 5 columns instead of 4)\n    Line #2363 (got 7 columns instead of 4)\n    Line #2381 (got 5 columns instead of 4)\n    Line #2382 (got 5 columns instead of 4)\n    Line #2402 (got 7 columns instead of 4)\n    Line #2403 (got 7 columns instead of 4)\n    Line #2437 (got 5 columns instead of 4)\n    Line #2438 (got 5 columns instead of 4)\n    Line #2439 (got 5 columns instead of 4)\n    Line #2440 (got 5 columns instead of 4)\n    Line #2441 (got 5 columns instead of 4)\n    Line #2442 (got 5 columns instead of 4)\n    Line #2467 (got 5 columns instead of 4)\n    Line #2469 (got 5 columns instead of 4)\n    Line #2538 (got 5 columns instead of 4)\n    Line #2576 (got 5 columns instead of 4)\n    Line #2602 (got 5 columns instead of 4)\n    Line #2603 (got 5 columns instead of 4)\n    Line #2628 (got 5 columns instead of 4)\n    Line #2649 (got 5 columns instead of 4)\n    Line #2689 (got 6 columns instead of 4)\n    Line #2777 (got 5 columns instead of 4)\n    Line #2785 (got 5 columns instead of 4)\n    Line #2849 (got 5 columns instead of 4)\n    Line #2908 (got 5 columns instead of 4)\n    Line #2922 (got 5 columns instead of 4)\n    Line #3001 (got 5 columns instead of 4)\n    Line #3079 (got 5 columns instead of 4)\n    Line #3103 (got 5 columns instead of 4)\n    Line #3158 (got 5 columns instead of 4)\n    Line #3163 (got 6 columns instead of 4)\n    Line #3192 (got 5 columns instead of 4)\n    Line #3464 (got 5 columns instead of 4)\n    Line #3465 (got 6 columns instead of 4)\n    Line #3466 (got 6 columns instead of 4)\n    Line #3525 (got 5 columns instead of 4)\n    Line #3531 (got 5 columns instead of 4)\n    Line #3563 (got 5 columns instead of 4)\n    Line #3569 (got 6 columns instead of 4)\n    Line #3682 (got 6 columns instead of 4)\n    Line #3696 (got 5 columns instead of 4)\n    Line #3706 (got 6 columns instead of 4)\n    Line #3751 (got 5 columns instead of 4)\n    Line #3776 (got 6 columns instead of 4)\n    Line #3783 (got 5 columns instead of 4)\n    Line #3787 (got 5 columns instead of 4)\n    Line #3809 (got 5 columns instead of 4)\n    Line #3828 (got 5 columns instead of 4)",
     "output_type": "error",
     "traceback": [
      "\u001b[1;31m---------------------------------------------------------------------------\u001b[0m",
      "\u001b[1;31mValueError\u001b[0m                                Traceback (most recent call last)",
      "\u001b[1;32m<ipython-input-152-f006cc5a3d0f>\u001b[0m in \u001b[0;36m<module>\u001b[1;34m\u001b[0m\n\u001b[1;32m----> 1\u001b[1;33m \u001b[0mmyData\u001b[0m\u001b[1;33m=\u001b[0m\u001b[0mnp\u001b[0m\u001b[1;33m.\u001b[0m\u001b[0mgenfromtxt\u001b[0m\u001b[1;33m(\u001b[0m\u001b[1;34m\"br.csv\"\u001b[0m\u001b[1;33m,\u001b[0m\u001b[0mdelimiter\u001b[0m\u001b[1;33m=\u001b[0m\u001b[1;34m\",\"\u001b[0m\u001b[1;33m,\u001b[0m \u001b[0mdtype\u001b[0m \u001b[1;33m=\u001b[0m\u001b[1;34m\"int\"\u001b[0m \u001b[1;33m,\u001b[0m\u001b[0mskip_header\u001b[0m\u001b[1;33m=\u001b[0m\u001b[1;36m1\u001b[0m\u001b[1;33m)\u001b[0m\u001b[1;33m;\u001b[0m\u001b[1;33m\u001b[0m\u001b[1;33m\u001b[0m\u001b[0m\n\u001b[0m\u001b[0;32m      2\u001b[0m \u001b[1;33m\u001b[0m\u001b[0m\n\u001b[0;32m      3\u001b[0m \u001b[1;32mfrom\u001b[0m \u001b[0msklearn\u001b[0m \u001b[1;32mimport\u001b[0m \u001b[0mpreprocessing\u001b[0m\u001b[1;33m\u001b[0m\u001b[1;33m\u001b[0m\u001b[0m\n\u001b[0;32m      4\u001b[0m \u001b[0mle\u001b[0m \u001b[1;33m=\u001b[0m \u001b[0mpreprocessing\u001b[0m\u001b[1;33m.\u001b[0m\u001b[0mLabelEncoder\u001b[0m\u001b[1;33m(\u001b[0m\u001b[1;33m)\u001b[0m\u001b[1;33m\u001b[0m\u001b[1;33m\u001b[0m\u001b[0m\n\u001b[0;32m      5\u001b[0m \u001b[0mmyData\u001b[0m\u001b[1;33m[\u001b[0m\u001b[1;36m0\u001b[0m\u001b[1;33m]\u001b[0m \u001b[1;33m=\u001b[0m \u001b[0mle\u001b[0m\u001b[1;33m.\u001b[0m\u001b[0mfit_transform\u001b[0m\u001b[1;33m(\u001b[0m\u001b[0mmyData\u001b[0m\u001b[1;33m[\u001b[0m\u001b[1;36m0\u001b[0m\u001b[1;33m]\u001b[0m\u001b[1;33m)\u001b[0m\u001b[1;33m\u001b[0m\u001b[1;33m\u001b[0m\u001b[0m\n",
      "\u001b[1;32m~\\Anaconda3\\lib\\site-packages\\numpy\\lib\\npyio.py\u001b[0m in \u001b[0;36mgenfromtxt\u001b[1;34m(fname, dtype, comments, delimiter, skip_header, skip_footer, converters, missing_values, filling_values, usecols, names, excludelist, deletechars, replace_space, autostrip, case_sensitive, defaultfmt, unpack, usemask, loose, invalid_raise, max_rows, encoding)\u001b[0m\n\u001b[0;32m   2066\u001b[0m             \u001b[1;31m# Raise an exception ?\u001b[0m\u001b[1;33m\u001b[0m\u001b[1;33m\u001b[0m\u001b[1;33m\u001b[0m\u001b[0m\n\u001b[0;32m   2067\u001b[0m             \u001b[1;32mif\u001b[0m \u001b[0minvalid_raise\u001b[0m\u001b[1;33m:\u001b[0m\u001b[1;33m\u001b[0m\u001b[1;33m\u001b[0m\u001b[0m\n\u001b[1;32m-> 2068\u001b[1;33m                 \u001b[1;32mraise\u001b[0m \u001b[0mValueError\u001b[0m\u001b[1;33m(\u001b[0m\u001b[0merrmsg\u001b[0m\u001b[1;33m)\u001b[0m\u001b[1;33m\u001b[0m\u001b[1;33m\u001b[0m\u001b[0m\n\u001b[0m\u001b[0;32m   2069\u001b[0m             \u001b[1;31m# Issue a warning ?\u001b[0m\u001b[1;33m\u001b[0m\u001b[1;33m\u001b[0m\u001b[1;33m\u001b[0m\u001b[0m\n\u001b[0;32m   2070\u001b[0m             \u001b[1;32melse\u001b[0m\u001b[1;33m:\u001b[0m\u001b[1;33m\u001b[0m\u001b[1;33m\u001b[0m\u001b[0m\n",
      "\u001b[1;31mValueError\u001b[0m: Some errors were detected !\n    Line #120 (got 5 columns instead of 4)\n    Line #180 (got 6 columns instead of 4)\n    Line #181 (got 5 columns instead of 4)\n    Line #184 (got 5 columns instead of 4)\n    Line #187 (got 5 columns instead of 4)\n    Line #188 (got 5 columns instead of 4)\n    Line #189 (got 5 columns instead of 4)\n    Line #236 (got 5 columns instead of 4)\n    Line #257 (got 6 columns instead of 4)\n    Line #310 (got 10 columns instead of 4)\n    Line #347 (got 5 columns instead of 4)\n    Line #349 (got 5 columns instead of 4)\n    Line #350 (got 5 columns instead of 4)\n    Line #351 (got 5 columns instead of 4)\n    Line #354 (got 5 columns instead of 4)\n    Line #355 (got 5 columns instead of 4)\n    Line #356 (got 5 columns instead of 4)\n    Line #357 (got 5 columns instead of 4)\n    Line #358 (got 5 columns instead of 4)\n    Line #359 (got 5 columns instead of 4)\n    Line #360 (got 5 columns instead of 4)\n    Line #361 (got 5 columns instead of 4)\n    Line #401 (got 5 columns instead of 4)\n    Line #436 (got 5 columns instead of 4)\n    Line #437 (got 5 columns instead of 4)\n    Line #438 (got 5 columns instead of 4)\n    Line #439 (got 5 columns instead of 4)\n    Line #440 (got 5 columns instead of 4)\n    Line #441 (got 5 columns instead of 4)\n    Line #442 (got 5 columns instead of 4)\n    Line #443 (got 5 columns instead of 4)\n    Line #462 (got 5 columns instead of 4)\n    Line #463 (got 5 columns instead of 4)\n    Line #477 (got 5 columns instead of 4)\n    Line #478 (got 5 columns instead of 4)\n    Line #521 (got 6 columns instead of 4)\n    Line #529 (got 5 columns instead of 4)\n    Line #530 (got 5 columns instead of 4)\n    Line #531 (got 5 columns instead of 4)\n    Line #532 (got 5 columns instead of 4)\n    Line #568 (got 6 columns instead of 4)\n    Line #569 (got 6 columns instead of 4)\n    Line #613 (got 6 columns instead of 4)\n    Line #614 (got 6 columns instead of 4)\n    Line #615 (got 5 columns instead of 4)\n    Line #629 (got 5 columns instead of 4)\n    Line #639 (got 5 columns instead of 4)\n    Line #640 (got 5 columns instead of 4)\n    Line #641 (got 5 columns instead of 4)\n    Line #642 (got 5 columns instead of 4)\n    Line #643 (got 5 columns instead of 4)\n    Line #644 (got 5 columns instead of 4)\n    Line #645 (got 5 columns instead of 4)\n    Line #646 (got 5 columns instead of 4)\n    Line #647 (got 5 columns instead of 4)\n    Line #648 (got 5 columns instead of 4)\n    Line #719 (got 6 columns instead of 4)\n    Line #738 (got 5 columns instead of 4)\n    Line #739 (got 5 columns instead of 4)\n    Line #740 (got 5 columns instead of 4)\n    Line #754 (got 5 columns instead of 4)\n    Line #755 (got 5 columns instead of 4)\n    Line #757 (got 5 columns instead of 4)\n    Line #769 (got 5 columns instead of 4)\n    Line #813 (got 6 columns instead of 4)\n    Line #814 (got 6 columns instead of 4)\n    Line #815 (got 5 columns instead of 4)\n    Line #830 (got 5 columns instead of 4)\n    Line #831 (got 5 columns instead of 4)\n    Line #832 (got 5 columns instead of 4)\n    Line #841 (got 5 columns instead of 4)\n    Line #847 (got 5 columns instead of 4)\n    Line #848 (got 5 columns instead of 4)\n    Line #854 (got 5 columns instead of 4)\n    Line #909 (got 5 columns instead of 4)\n    Line #910 (got 5 columns instead of 4)\n    Line #937 (got 5 columns instead of 4)\n    Line #938 (got 5 columns instead of 4)\n    Line #939 (got 5 columns instead of 4)\n    Line #940 (got 5 columns instead of 4)\n    Line #941 (got 5 columns instead of 4)\n    Line #942 (got 5 columns instead of 4)\n    Line #943 (got 5 columns instead of 4)\n    Line #944 (got 5 columns instead of 4)\n    Line #945 (got 5 columns instead of 4)\n    Line #946 (got 5 columns instead of 4)\n    Line #947 (got 5 columns instead of 4)\n    Line #949 (got 5 columns instead of 4)\n    Line #950 (got 5 columns instead of 4)\n    Line #951 (got 5 columns instead of 4)\n    Line #952 (got 5 columns instead of 4)\n    Line #953 (got 5 columns instead of 4)\n    Line #955 (got 5 columns instead of 4)\n    Line #956 (got 5 columns instead of 4)\n    Line #957 (got 5 columns instead of 4)\n    Line #958 (got 5 columns instead of 4)\n    Line #959 (got 5 columns instead of 4)\n    Line #974 (got 5 columns instead of 4)\n    Line #1008 (got 5 columns instead of 4)\n    Line #1019 (got 5 columns instead of 4)\n    Line #1022 (got 5 columns instead of 4)\n    Line #1023 (got 5 columns instead of 4)\n    Line #1027 (got 7 columns instead of 4)\n    Line #1031 (got 5 columns instead of 4)\n    Line #1069 (got 5 columns instead of 4)\n    Line #1070 (got 5 columns instead of 4)\n    Line #1083 (got 5 columns instead of 4)\n    Line #1084 (got 5 columns instead of 4)\n    Line #1118 (got 5 columns instead of 4)\n    Line #1151 (got 5 columns instead of 4)\n    Line #1152 (got 5 columns instead of 4)\n    Line #1153 (got 5 columns instead of 4)\n    Line #1171 (got 6 columns instead of 4)\n    Line #1172 (got 6 columns instead of 4)\n    Line #1193 (got 5 columns instead of 4)\n    Line #1194 (got 5 columns instead of 4)\n    Line #1210 (got 5 columns instead of 4)\n    Line #1211 (got 5 columns instead of 4)\n    Line #1246 (got 5 columns instead of 4)\n    Line #1247 (got 5 columns instead of 4)\n    Line #1272 (got 7 columns instead of 4)\n    Line #1273 (got 7 columns instead of 4)\n    Line #1277 (got 5 columns instead of 4)\n    Line #1299 (got 6 columns instead of 4)\n    Line #1307 (got 5 columns instead of 4)\n    Line #1308 (got 5 columns instead of 4)\n    Line #1309 (got 5 columns instead of 4)\n    Line #1310 (got 5 columns instead of 4)\n    Line #1311 (got 5 columns instead of 4)\n    Line #1312 (got 5 columns instead of 4)\n    Line #1313 (got 5 columns instead of 4)\n    Line #1314 (got 5 columns instead of 4)\n    Line #1316 (got 5 columns instead of 4)\n    Line #1317 (got 5 columns instead of 4)\n    Line #1318 (got 5 columns instead of 4)\n    Line #1319 (got 5 columns instead of 4)\n    Line #1320 (got 5 columns instead of 4)\n    Line #1321 (got 5 columns instead of 4)\n    Line #1322 (got 7 columns instead of 4)\n    Line #1325 (got 7 columns instead of 4)\n    Line #1326 (got 7 columns instead of 4)\n    Line #1327 (got 5 columns instead of 4)\n    Line #1328 (got 5 columns instead of 4)\n    Line #1329 (got 5 columns instead of 4)\n    Line #1330 (got 5 columns instead of 4)\n    Line #1331 (got 5 columns instead of 4)\n    Line #1332 (got 5 columns instead of 4)\n    Line #1333 (got 5 columns instead of 4)\n    Line #1334 (got 5 columns instead of 4)\n    Line #1335 (got 5 columns instead of 4)\n    Line #1336 (got 5 columns instead of 4)\n    Line #1337 (got 5 columns instead of 4)\n    Line #1338 (got 5 columns instead of 4)\n    Line #1372 (got 5 columns instead of 4)\n    Line #1373 (got 5 columns instead of 4)\n    Line #1374 (got 5 columns instead of 4)\n    Line #1375 (got 5 columns instead of 4)\n    Line #1376 (got 5 columns instead of 4)\n    Line #1386 (got 5 columns instead of 4)\n    Line #1387 (got 5 columns instead of 4)\n    Line #1407 (got 6 columns instead of 4)\n    Line #1409 (got 6 columns instead of 4)\n    Line #1423 (got 6 columns instead of 4)\n    Line #1428 (got 5 columns instead of 4)\n    Line #1429 (got 5 columns instead of 4)\n    Line #1430 (got 5 columns instead of 4)\n    Line #1558 (got 7 columns instead of 4)\n    Line #1560 (got 5 columns instead of 4)\n    Line #1576 (got 5 columns instead of 4)\n    Line #1577 (got 5 columns instead of 4)\n    Line #1578 (got 5 columns instead of 4)\n    Line #1579 (got 5 columns instead of 4)\n    Line #1580 (got 5 columns instead of 4)\n    Line #1603 (got 5 columns instead of 4)\n    Line #1604 (got 5 columns instead of 4)\n    Line #1605 (got 5 columns instead of 4)\n    Line #1631 (got 5 columns instead of 4)\n    Line #1636 (got 6 columns instead of 4)\n    Line #1656 (got 5 columns instead of 4)\n    Line #1657 (got 7 columns instead of 4)\n    Line #1658 (got 5 columns instead of 4)\n    Line #1659 (got 7 columns instead of 4)\n    Line #1664 (got 5 columns instead of 4)\n    Line #1710 (got 5 columns instead of 4)\n    Line #1732 (got 6 columns instead of 4)\n    Line #1733 (got 6 columns instead of 4)\n    Line #1736 (got 6 columns instead of 4)\n    Line #1737 (got 6 columns instead of 4)\n    Line #1739 (got 5 columns instead of 4)\n    Line #1741 (got 5 columns instead of 4)\n    Line #1744 (got 6 columns instead of 4)\n    Line #1745 (got 6 columns instead of 4)\n    Line #1749 (got 5 columns instead of 4)\n    Line #1759 (got 5 columns instead of 4)\n    Line #1760 (got 5 columns instead of 4)\n    Line #1775 (got 5 columns instead of 4)\n    Line #1778 (got 5 columns instead of 4)\n    Line #1814 (got 6 columns instead of 4)\n    Line #1868 (got 5 columns instead of 4)\n    Line #1886 (got 5 columns instead of 4)\n    Line #1887 (got 5 columns instead of 4)\n    Line #1888 (got 5 columns instead of 4)\n    Line #1889 (got 5 columns instead of 4)\n    Line #1890 (got 5 columns instead of 4)\n    Line #1922 (got 5 columns instead of 4)\n    Line #1923 (got 5 columns instead of 4)\n    Line #1924 (got 5 columns instead of 4)\n    Line #1925 (got 5 columns instead of 4)\n    Line #1926 (got 5 columns instead of 4)\n    Line #1942 (got 6 columns instead of 4)\n    Line #1943 (got 5 columns instead of 4)\n    Line #1947 (got 6 columns instead of 4)\n    Line #1968 (got 6 columns instead of 4)\n    Line #1969 (got 7 columns instead of 4)\n    Line #1970 (got 7 columns instead of 4)\n    Line #1971 (got 6 columns instead of 4)\n    Line #1972 (got 6 columns instead of 4)\n    Line #1989 (got 5 columns instead of 4)\n    Line #2009 (got 5 columns instead of 4)\n    Line #2014 (got 5 columns instead of 4)\n    Line #2031 (got 5 columns instead of 4)\n    Line #2048 (got 5 columns instead of 4)\n    Line #2049 (got 5 columns instead of 4)\n    Line #2072 (got 5 columns instead of 4)\n    Line #2077 (got 5 columns instead of 4)\n    Line #2088 (got 5 columns instead of 4)\n    Line #2089 (got 5 columns instead of 4)\n    Line #2119 (got 5 columns instead of 4)\n    Line #2205 (got 5 columns instead of 4)\n    Line #2255 (got 5 columns instead of 4)\n    Line #2256 (got 5 columns instead of 4)\n    Line #2257 (got 5 columns instead of 4)\n    Line #2258 (got 5 columns instead of 4)\n    Line #2259 (got 5 columns instead of 4)\n    Line #2337 (got 5 columns instead of 4)\n    Line #2358 (got 5 columns instead of 4)\n    Line #2363 (got 7 columns instead of 4)\n    Line #2381 (got 5 columns instead of 4)\n    Line #2382 (got 5 columns instead of 4)\n    Line #2402 (got 7 columns instead of 4)\n    Line #2403 (got 7 columns instead of 4)\n    Line #2437 (got 5 columns instead of 4)\n    Line #2438 (got 5 columns instead of 4)\n    Line #2439 (got 5 columns instead of 4)\n    Line #2440 (got 5 columns instead of 4)\n    Line #2441 (got 5 columns instead of 4)\n    Line #2442 (got 5 columns instead of 4)\n    Line #2467 (got 5 columns instead of 4)\n    Line #2469 (got 5 columns instead of 4)\n    Line #2538 (got 5 columns instead of 4)\n    Line #2576 (got 5 columns instead of 4)\n    Line #2602 (got 5 columns instead of 4)\n    Line #2603 (got 5 columns instead of 4)\n    Line #2628 (got 5 columns instead of 4)\n    Line #2649 (got 5 columns instead of 4)\n    Line #2689 (got 6 columns instead of 4)\n    Line #2777 (got 5 columns instead of 4)\n    Line #2785 (got 5 columns instead of 4)\n    Line #2849 (got 5 columns instead of 4)\n    Line #2908 (got 5 columns instead of 4)\n    Line #2922 (got 5 columns instead of 4)\n    Line #3001 (got 5 columns instead of 4)\n    Line #3079 (got 5 columns instead of 4)\n    Line #3103 (got 5 columns instead of 4)\n    Line #3158 (got 5 columns instead of 4)\n    Line #3163 (got 6 columns instead of 4)\n    Line #3192 (got 5 columns instead of 4)\n    Line #3464 (got 5 columns instead of 4)\n    Line #3465 (got 6 columns instead of 4)\n    Line #3466 (got 6 columns instead of 4)\n    Line #3525 (got 5 columns instead of 4)\n    Line #3531 (got 5 columns instead of 4)\n    Line #3563 (got 5 columns instead of 4)\n    Line #3569 (got 6 columns instead of 4)\n    Line #3682 (got 6 columns instead of 4)\n    Line #3696 (got 5 columns instead of 4)\n    Line #3706 (got 6 columns instead of 4)\n    Line #3751 (got 5 columns instead of 4)\n    Line #3776 (got 6 columns instead of 4)\n    Line #3783 (got 5 columns instead of 4)\n    Line #3787 (got 5 columns instead of 4)\n    Line #3809 (got 5 columns instead of 4)\n    Line #3828 (got 5 columns instead of 4)"
     ]
    }
   ],
   "source": [
    "myData=np.genfromtxt(\"br.csv\",delimiter=\",\", dtype =\"int\" ,skip_header=1);\n",
    "\n",
    "from sklearn import preprocessing\n",
    "le = preprocessing.LabelEncoder()\n",
    "myData[0] = le.fit_transform(myData[0])\n",
    "myData[3] = le.fit_transform(myData[3])"
   ]
  },
  {
   "cell_type": "code",
   "execution_count": null,
   "metadata": {},
   "outputs": [],
   "source": [
    "pd.isnull(myData).sum()"
   ]
  },
  {
   "cell_type": "code",
   "execution_count": null,
   "metadata": {},
   "outputs": [],
   "source": [
    "kmeans = KMeans(n_clusters = 3)\n"
   ]
  },
  {
   "cell_type": "code",
   "execution_count": null,
   "metadata": {},
   "outputs": [],
   "source": [
    "myData"
   ]
  },
  {
   "cell_type": "code",
   "execution_count": 130,
   "metadata": {},
   "outputs": [
    {
     "data": {
      "text/plain": [
       "KMeans(algorithm='auto', copy_x=True, init='k-means++', max_iter=300,\n",
       "    n_clusters=3, n_init=10, n_jobs=None, precompute_distances='auto',\n",
       "    random_state=None, tol=0.0001, verbose=0)"
      ]
     },
     "execution_count": 130,
     "metadata": {},
     "output_type": "execute_result"
    }
   ],
   "source": [
    "kmeans.fit(myData)"
   ]
  },
  {
   "cell_type": "code",
   "execution_count": 133,
   "metadata": {},
   "outputs": [
    {
     "data": {
      "text/plain": [
       "1    1122\n",
       "0     662\n",
       "2     215\n",
       "dtype: int64"
      ]
     },
     "execution_count": 133,
     "metadata": {},
     "output_type": "execute_result"
    }
   ],
   "source": [
    "pred = kmeans.predict(myData)\n",
    "pred\n",
    "pd.Series(pred).value_counts()"
   ]
  },
  {
   "cell_type": "code",
   "execution_count": 134,
   "metadata": {},
   "outputs": [
    {
     "data": {
      "text/plain": [
       "18294094661354.168"
      ]
     },
     "execution_count": 134,
     "metadata": {},
     "output_type": "execute_result"
    }
   ],
   "source": [
    "kmeans.inertia_"
   ]
  },
  {
   "cell_type": "code",
   "execution_count": 135,
   "metadata": {},
   "outputs": [
    {
     "data": {
      "text/plain": [
       "-18294094661353.785"
      ]
     },
     "execution_count": 135,
     "metadata": {},
     "output_type": "execute_result"
    }
   ],
   "source": [
    "kmeans.score(myData)"
   ]
  },
  {
   "cell_type": "code",
   "execution_count": 136,
   "metadata": {},
   "outputs": [],
   "source": [
    "SSE = []"
   ]
  },
  {
   "cell_type": "code",
   "execution_count": 137,
   "metadata": {},
   "outputs": [],
   "source": [
    "for cluster in range(1,10):\n",
    "    kmeans = KMeans(n_jobs = -1,n_clusters = cluster)\n",
    "    kmeans.fit(myData)\n",
    "    SSE.append(kmeans.inertia_)"
   ]
  },
  {
   "cell_type": "code",
   "execution_count": 138,
   "metadata": {},
   "outputs": [
    {
     "data": {
      "text/html": [
       "<div>\n",
       "<style scoped>\n",
       "    .dataframe tbody tr th:only-of-type {\n",
       "        vertical-align: middle;\n",
       "    }\n",
       "\n",
       "    .dataframe tbody tr th {\n",
       "        vertical-align: top;\n",
       "    }\n",
       "\n",
       "    .dataframe thead th {\n",
       "        text-align: right;\n",
       "    }\n",
       "</style>\n",
       "<table border=\"1\" class=\"dataframe\">\n",
       "  <thead>\n",
       "    <tr style=\"text-align: right;\">\n",
       "      <th></th>\n",
       "      <th>Cluster</th>\n",
       "      <th>SSE</th>\n",
       "    </tr>\n",
       "  </thead>\n",
       "  <tbody>\n",
       "    <tr>\n",
       "      <th>0</th>\n",
       "      <td>1</td>\n",
       "      <td>1.631045e+15</td>\n",
       "    </tr>\n",
       "    <tr>\n",
       "      <th>1</th>\n",
       "      <td>2</td>\n",
       "      <td>9.777352e+13</td>\n",
       "    </tr>\n",
       "    <tr>\n",
       "      <th>2</th>\n",
       "      <td>3</td>\n",
       "      <td>1.829409e+13</td>\n",
       "    </tr>\n",
       "    <tr>\n",
       "      <th>3</th>\n",
       "      <td>4</td>\n",
       "      <td>6.500001e+12</td>\n",
       "    </tr>\n",
       "    <tr>\n",
       "      <th>4</th>\n",
       "      <td>5</td>\n",
       "      <td>2.377610e+12</td>\n",
       "    </tr>\n",
       "  </tbody>\n",
       "</table>\n",
       "</div>"
      ],
      "text/plain": [
       "   Cluster           SSE\n",
       "0        1  1.631045e+15\n",
       "1        2  9.777352e+13\n",
       "2        3  1.829409e+13\n",
       "3        4  6.500001e+12\n",
       "4        5  2.377610e+12"
      ]
     },
     "execution_count": 138,
     "metadata": {},
     "output_type": "execute_result"
    }
   ],
   "source": [
    "frame = pd.DataFrame({'Cluster':range(1,10),'SSE':SSE})\n",
    "frame.head()"
   ]
  },
  {
   "cell_type": "code",
   "execution_count": 139,
   "metadata": {},
   "outputs": [
    {
     "data": {
      "text/plain": [
       "[<matplotlib.lines.Line2D at 0xd8c688d358>]"
      ]
     },
     "execution_count": 139,
     "metadata": {},
     "output_type": "execute_result"
    },
    {
     "data": {
      "image/png": "[encoded data removed]",
      "text/plain": [
       "<Figure size 864x432 with 1 Axes>"
      ]
     },
     "metadata": {
      "needs_background": "light"
     },
     "output_type": "display_data"
    }
   ],
   "source": [
    "plt.figure(figsize=(12,6))\n",
    "plt.plot(frame['Cluster'],frame['SSE'],marker=\"o\")"
   ]
  },
  {
   "cell_type": "code",
   "execution_count": null,
   "metadata": {},
   "outputs": [],
   "source": []
  }
 ],
 "metadata": {
  "kernelspec": {
   "display_name": "Python 3",
   "language": "python",
   "name": "python3"
  },
  "language_info": {
   "codemirror_mode": {
    "name": "ipython",
    "version": 3
   },
   "file_extension": ".py",
   "mimetype": "text/x-python",
   "name": "python",
   "nbconvert_exporter": "python",
   "pygments_lexer": "ipython3",
   "version": "3.7.3"
  }
 },
 "nbformat": 4,
 "nbformat_minor": 2
}
